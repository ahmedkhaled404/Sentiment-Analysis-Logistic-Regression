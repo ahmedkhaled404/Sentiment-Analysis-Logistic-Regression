{
 "cells": [
  {
   "cell_type": "markdown",
   "id": "1947a9a8",
   "metadata": {},
   "source": [
    "# Sentiment Analysis on IMDB movie reviews"
   ]
  },
  {
   "cell_type": "markdown",
   "id": "db8ab765",
   "metadata": {},
   "source": [
    "## Importing Libraries"
   ]
  },
  {
   "cell_type": "code",
   "execution_count": 1,
   "id": "5544def9",
   "metadata": {},
   "outputs": [],
   "source": [
    "import numpy as np\n",
    "import pandas as pd\n",
    "import matplotlib.pyplot as plt\n",
    "import seaborn as sns\n",
    "%matplotlib inline"
   ]
  },
  {
   "cell_type": "markdown",
   "id": "243ae1e3",
   "metadata": {},
   "source": [
    "## IMDB Movie Ratings Sentiment Analysis\n",
    "source: https://www.kaggle.com/datasets/yasserh/imdb-movie-ratings-sentiment-analysis"
   ]
  },
  {
   "cell_type": "markdown",
   "id": "ebe7b8dc",
   "metadata": {},
   "source": [
    "## Importing and Inspecting Data"
   ]
  },
  {
   "cell_type": "code",
   "execution_count": 4,
   "id": "70cd13b3",
   "metadata": {},
   "outputs": [],
   "source": [
    "data = pd.read_csv('F:/Career/Applications/AI WideBot/movie.csv')"
   ]
  },
  {
   "cell_type": "code",
   "execution_count": 5,
   "id": "db64c289",
   "metadata": {
    "scrolled": true
   },
   "outputs": [
    {
     "data": {
      "text/html": [
       "<div>\n",
       "<style scoped>\n",
       "    .dataframe tbody tr th:only-of-type {\n",
       "        vertical-align: middle;\n",
       "    }\n",
       "\n",
       "    .dataframe tbody tr th {\n",
       "        vertical-align: top;\n",
       "    }\n",
       "\n",
       "    .dataframe thead th {\n",
       "        text-align: right;\n",
       "    }\n",
       "</style>\n",
       "<table border=\"1\" class=\"dataframe\">\n",
       "  <thead>\n",
       "    <tr style=\"text-align: right;\">\n",
       "      <th></th>\n",
       "      <th>text</th>\n",
       "      <th>label</th>\n",
       "    </tr>\n",
       "  </thead>\n",
       "  <tbody>\n",
       "    <tr>\n",
       "      <th>0</th>\n",
       "      <td>I grew up (b. 1965) watching and loving the Th...</td>\n",
       "      <td>0</td>\n",
       "    </tr>\n",
       "    <tr>\n",
       "      <th>1</th>\n",
       "      <td>When I put this movie in my DVD player, and sa...</td>\n",
       "      <td>0</td>\n",
       "    </tr>\n",
       "    <tr>\n",
       "      <th>2</th>\n",
       "      <td>Why do people who do not know what a particula...</td>\n",
       "      <td>0</td>\n",
       "    </tr>\n",
       "    <tr>\n",
       "      <th>3</th>\n",
       "      <td>Even though I have great interest in Biblical ...</td>\n",
       "      <td>0</td>\n",
       "    </tr>\n",
       "    <tr>\n",
       "      <th>4</th>\n",
       "      <td>Im a die hard Dads Army fan and nothing will e...</td>\n",
       "      <td>1</td>\n",
       "    </tr>\n",
       "  </tbody>\n",
       "</table>\n",
       "</div>"
      ],
      "text/plain": [
       "                                                text  label\n",
       "0  I grew up (b. 1965) watching and loving the Th...      0\n",
       "1  When I put this movie in my DVD player, and sa...      0\n",
       "2  Why do people who do not know what a particula...      0\n",
       "3  Even though I have great interest in Biblical ...      0\n",
       "4  Im a die hard Dads Army fan and nothing will e...      1"
      ]
     },
     "execution_count": 5,
     "metadata": {},
     "output_type": "execute_result"
    }
   ],
   "source": [
    "data.head()"
   ]
  },
  {
   "cell_type": "code",
   "execution_count": 123,
   "id": "b9f08abb",
   "metadata": {},
   "outputs": [
    {
     "name": "stdout",
     "output_type": "stream",
     "text": [
      "<class 'pandas.core.frame.DataFrame'>\n",
      "Int64Index: 39723 entries, 0 to 39999\n",
      "Data columns (total 6 columns):\n",
      " #   Column          Non-Null Count  Dtype \n",
      "---  ------          --------------  ----- \n",
      " 0   text            39723 non-null  object\n",
      " 1   label           39723 non-null  int64 \n",
      " 2   word_count      39723 non-null  int64 \n",
      " 3   cleaned_text    39723 non-null  object\n",
      " 4   processed_text  39723 non-null  object\n",
      " 5   final_text      39723 non-null  object\n",
      "dtypes: int64(2), object(4)\n",
      "memory usage: 3.1+ MB\n"
     ]
    }
   ],
   "source": [
    "# see datatypes & if there are nulls\n",
    "data.info()"
   ]
  },
  {
   "cell_type": "markdown",
   "id": "1888a586",
   "metadata": {},
   "source": [
    "## Data Exploration (EDA)"
   ]
  },
  {
   "cell_type": "code",
   "execution_count": 14,
   "id": "2130748e",
   "metadata": {},
   "outputs": [
    {
     "data": {
      "text/plain": [
       "(40000, 2)"
      ]
     },
     "execution_count": 14,
     "metadata": {},
     "output_type": "execute_result"
    }
   ],
   "source": [
    "data.shape"
   ]
  },
  {
   "cell_type": "code",
   "execution_count": 16,
   "id": "70d6012e",
   "metadata": {},
   "outputs": [
    {
     "data": {
      "text/plain": [
       "277"
      ]
     },
     "execution_count": 16,
     "metadata": {},
     "output_type": "execute_result"
    }
   ],
   "source": [
    "# checking for duplicates\n",
    "duplicates_count=data.duplicated().sum()\n",
    "duplicates_count"
   ]
  },
  {
   "cell_type": "code",
   "execution_count": 18,
   "id": "bfa5397d",
   "metadata": {},
   "outputs": [],
   "source": [
    "# dropping dups\n",
    "data.drop_duplicates(inplace=True)"
   ]
  },
  {
   "cell_type": "code",
   "execution_count": 21,
   "id": "b92b5af3",
   "metadata": {},
   "outputs": [
    {
     "data": {
      "text/plain": [
       "1    19908\n",
       "0    19815\n",
       "Name: label, dtype: int64"
      ]
     },
     "execution_count": 21,
     "metadata": {},
     "output_type": "execute_result"
    }
   ],
   "source": [
    "#checking class impalance\n",
    "data['label'].value_counts()"
   ]
  },
  {
   "cell_type": "code",
   "execution_count": 34,
   "id": "47d477f0",
   "metadata": {},
   "outputs": [
    {
     "data": {
      "image/png": "[encoded data removed]",
      "text/plain": [
       "<Figure size 640x480 with 1 Axes>"
      ]
     },
     "metadata": {},
     "output_type": "display_data"
    }
   ],
   "source": [
    "plt.pie(data['label'].value_counts(),labels=['Positive','Negative'],autopct='%.2f%%')\n",
    "plt.ylabel('Movie Sentiment');"
   ]
  },
  {
   "cell_type": "markdown",
   "id": "6d57d627",
   "metadata": {},
   "source": [
    "Turnes out data is almost exactly balanced"
   ]
  },
  {
   "cell_type": "code",
   "execution_count": 23,
   "id": "73cdb548",
   "metadata": {},
   "outputs": [],
   "source": [
    "# How many words per review\n",
    "data['word_count']=data['text'].apply(lambda x:len(x.split()))"
   ]
  },
  {
   "cell_type": "code",
   "execution_count": 24,
   "id": "007adfbd",
   "metadata": {},
   "outputs": [
    {
     "data": {
      "text/html": [
       "<div>\n",
       "<style scoped>\n",
       "    .dataframe tbody tr th:only-of-type {\n",
       "        vertical-align: middle;\n",
       "    }\n",
       "\n",
       "    .dataframe tbody tr th {\n",
       "        vertical-align: top;\n",
       "    }\n",
       "\n",
       "    .dataframe thead th {\n",
       "        text-align: right;\n",
       "    }\n",
       "</style>\n",
       "<table border=\"1\" class=\"dataframe\">\n",
       "  <thead>\n",
       "    <tr style=\"text-align: right;\">\n",
       "      <th></th>\n",
       "      <th>text</th>\n",
       "      <th>label</th>\n",
       "      <th>word_count</th>\n",
       "    </tr>\n",
       "  </thead>\n",
       "  <tbody>\n",
       "    <tr>\n",
       "      <th>0</th>\n",
       "      <td>I grew up (b. 1965) watching and loving the Th...</td>\n",
       "      <td>0</td>\n",
       "      <td>151</td>\n",
       "    </tr>\n",
       "    <tr>\n",
       "      <th>1</th>\n",
       "      <td>When I put this movie in my DVD player, and sa...</td>\n",
       "      <td>0</td>\n",
       "      <td>326</td>\n",
       "    </tr>\n",
       "    <tr>\n",
       "      <th>2</th>\n",
       "      <td>Why do people who do not know what a particula...</td>\n",
       "      <td>0</td>\n",
       "      <td>184</td>\n",
       "    </tr>\n",
       "    <tr>\n",
       "      <th>3</th>\n",
       "      <td>Even though I have great interest in Biblical ...</td>\n",
       "      <td>0</td>\n",
       "      <td>69</td>\n",
       "    </tr>\n",
       "    <tr>\n",
       "      <th>4</th>\n",
       "      <td>Im a die hard Dads Army fan and nothing will e...</td>\n",
       "      <td>1</td>\n",
       "      <td>178</td>\n",
       "    </tr>\n",
       "  </tbody>\n",
       "</table>\n",
       "</div>"
      ],
      "text/plain": [
       "                                                text  label  word_count\n",
       "0  I grew up (b. 1965) watching and loving the Th...      0         151\n",
       "1  When I put this movie in my DVD player, and sa...      0         326\n",
       "2  Why do people who do not know what a particula...      0         184\n",
       "3  Even though I have great interest in Biblical ...      0          69\n",
       "4  Im a die hard Dads Army fan and nothing will e...      1         178"
      ]
     },
     "execution_count": 24,
     "metadata": {},
     "output_type": "execute_result"
    }
   ],
   "source": [
    "data.head()"
   ]
  },
  {
   "cell_type": "code",
   "execution_count": 29,
   "id": "1ebca057",
   "metadata": {},
   "outputs": [
    {
     "data": {
      "text/plain": [
       "<Axes: xlabel='word_count', ylabel='Count'>"
      ]
     },
     "execution_count": 29,
     "metadata": {},
     "output_type": "execute_result"
    },
    {
     "data": {
      "image/png": "[encoded data removed]",
      "text/plain": [
       "<Figure size 640x480 with 1 Axes>"
      ]
     },
     "metadata": {},
     "output_type": "display_data"
    }
   ],
   "source": [
    "# checking the data distribution\n",
    "sns.histplot(x=data['word_count'],bins=40)"
   ]
  },
  {
   "cell_type": "markdown",
   "id": "b0070e60",
   "metadata": {},
   "source": [
    "Turnes out data is right-skewed and there are few anomalies"
   ]
  },
  {
   "cell_type": "markdown",
   "id": "dba1749e",
   "metadata": {},
   "source": [
    "## Data Preprocessing NLTK"
   ]
  },
  {
   "cell_type": "code",
   "execution_count": 35,
   "id": "a9b339fe",
   "metadata": {},
   "outputs": [],
   "source": [
    "#standarising data to lower case & punctuation removal\n",
    "import re\n",
    "\n",
    "def clean_text(text):\n",
    "    # Convert text to lowercase\n",
    "    text = text.lower()\n",
    "    # Remove punctuation\n",
    "    text = re.sub(r'[^\\w\\s]', '', text)\n",
    "    return text\n",
    "\n",
    "# Apply cleaning to the text column\n",
    "data['cleaned_text'] = data['text'].apply(clean_text)"
   ]
  },
  {
   "cell_type": "code",
   "execution_count": 40,
   "id": "1ba2d955",
   "metadata": {},
   "outputs": [
    {
     "data": {
      "text/plain": [
       "'why do people who do not know what a particular time in the past was like feel the need to try to define that time for others replace woodstock with the civil war and the apollo moonlanding with the titanic sinking and youve got as realistic a flick as this formulaic soap opera populated entirely by lowlife trash is this what kids who were too young to be allowed to go to woodstock and who failed grade school composition do ill show those old meanies ill put out my own movie and prove that you dont have to know nuttin about your topic to still make money yeah we already know that the one thing watching this film did for me was to give me a little insight into underclass thinking the next time i see a slut in a bar who looks like diane lane im running the other way its child abuse to let parents that worthless raise kids its audience abuse to simply stick woodstock and the moonlanding into a flick as if that ipso facto means the film portrays 1969'"
      ]
     },
     "execution_count": 40,
     "metadata": {},
     "output_type": "execute_result"
    }
   ],
   "source": [
    "# sample review\n",
    "data['cleaned_text'][2]"
   ]
  },
  {
   "cell_type": "code",
   "execution_count": 41,
   "id": "c0d3126e",
   "metadata": {
    "scrolled": true
   },
   "outputs": [
    {
     "name": "stderr",
     "output_type": "stream",
     "text": [
      "[nltk_data] Downloading package punkt to\n",
      "[nltk_data]     C:\\Users\\PC\\AppData\\Roaming\\nltk_data...\n",
      "[nltk_data]   Unzipping tokenizers\\punkt.zip.\n",
      "[nltk_data] Downloading package wordnet to\n",
      "[nltk_data]     C:\\Users\\PC\\AppData\\Roaming\\nltk_data...\n"
     ]
    },
    {
     "data": {
      "text/html": [
       "<div>\n",
       "<style scoped>\n",
       "    .dataframe tbody tr th:only-of-type {\n",
       "        vertical-align: middle;\n",
       "    }\n",
       "\n",
       "    .dataframe tbody tr th {\n",
       "        vertical-align: top;\n",
       "    }\n",
       "\n",
       "    .dataframe thead th {\n",
       "        text-align: right;\n",
       "    }\n",
       "</style>\n",
       "<table border=\"1\" class=\"dataframe\">\n",
       "  <thead>\n",
       "    <tr style=\"text-align: right;\">\n",
       "      <th></th>\n",
       "      <th>text</th>\n",
       "      <th>label</th>\n",
       "      <th>word_count</th>\n",
       "      <th>cleaned_text</th>\n",
       "      <th>processed_text</th>\n",
       "    </tr>\n",
       "  </thead>\n",
       "  <tbody>\n",
       "    <tr>\n",
       "      <th>0</th>\n",
       "      <td>I grew up (b. 1965) watching and loving the Th...</td>\n",
       "      <td>0</td>\n",
       "      <td>151</td>\n",
       "      <td>i grew up b 1965 watching and loving the thund...</td>\n",
       "      <td>i grew up b 1965 watching and loving the thund...</td>\n",
       "    </tr>\n",
       "    <tr>\n",
       "      <th>1</th>\n",
       "      <td>When I put this movie in my DVD player, and sa...</td>\n",
       "      <td>0</td>\n",
       "      <td>326</td>\n",
       "      <td>when i put this movie in my dvd player and sat...</td>\n",
       "      <td>when i put this movie in my dvd player and sat...</td>\n",
       "    </tr>\n",
       "    <tr>\n",
       "      <th>2</th>\n",
       "      <td>Why do people who do not know what a particula...</td>\n",
       "      <td>0</td>\n",
       "      <td>184</td>\n",
       "      <td>why do people who do not know what a particula...</td>\n",
       "      <td>why do people who do not know what a particula...</td>\n",
       "    </tr>\n",
       "    <tr>\n",
       "      <th>3</th>\n",
       "      <td>Even though I have great interest in Biblical ...</td>\n",
       "      <td>0</td>\n",
       "      <td>69</td>\n",
       "      <td>even though i have great interest in biblical ...</td>\n",
       "      <td>even though i have great interest in biblical ...</td>\n",
       "    </tr>\n",
       "    <tr>\n",
       "      <th>4</th>\n",
       "      <td>Im a die hard Dads Army fan and nothing will e...</td>\n",
       "      <td>1</td>\n",
       "      <td>178</td>\n",
       "      <td>im a die hard dads army fan and nothing will e...</td>\n",
       "      <td>im a die hard dad army fan and nothing will ev...</td>\n",
       "    </tr>\n",
       "  </tbody>\n",
       "</table>\n",
       "</div>"
      ],
      "text/plain": [
       "                                                text  label  word_count  \\\n",
       "0  I grew up (b. 1965) watching and loving the Th...      0         151   \n",
       "1  When I put this movie in my DVD player, and sa...      0         326   \n",
       "2  Why do people who do not know what a particula...      0         184   \n",
       "3  Even though I have great interest in Biblical ...      0          69   \n",
       "4  Im a die hard Dads Army fan and nothing will e...      1         178   \n",
       "\n",
       "                                        cleaned_text  \\\n",
       "0  i grew up b 1965 watching and loving the thund...   \n",
       "1  when i put this movie in my dvd player and sat...   \n",
       "2  why do people who do not know what a particula...   \n",
       "3  even though i have great interest in biblical ...   \n",
       "4  im a die hard dads army fan and nothing will e...   \n",
       "\n",
       "                                      processed_text  \n",
       "0  i grew up b 1965 watching and loving the thund...  \n",
       "1  when i put this movie in my dvd player and sat...  \n",
       "2  why do people who do not know what a particula...  \n",
       "3  even though i have great interest in biblical ...  \n",
       "4  im a die hard dad army fan and nothing will ev...  "
      ]
     },
     "execution_count": 41,
     "metadata": {},
     "output_type": "execute_result"
    }
   ],
   "source": [
    "# Tokinaizing & Lemmatizing data\n",
    "import nltk\n",
    "from nltk.tokenize import word_tokenize\n",
    "from nltk.stem import WordNetLemmatizer\n",
    "\n",
    "# Download NLTK data files\n",
    "nltk.download('punkt')\n",
    "nltk.download('wordnet')\n",
    "\n",
    "lemmatizer = WordNetLemmatizer()"
   ]
  },
  {
   "cell_type": "code",
   "execution_count": 47,
   "id": "e4a1339a",
   "metadata": {},
   "outputs": [
    {
     "name": "stderr",
     "output_type": "stream",
     "text": [
      "[nltk_data] Downloading package averaged_perceptron_tagger to\n",
      "[nltk_data]     C:\\Users\\PC\\AppData\\Roaming\\nltk_data...\n",
      "[nltk_data]   Unzipping taggers\\averaged_perceptron_tagger.zip.\n"
     ]
    },
    {
     "data": {
      "text/plain": [
       "True"
      ]
     },
     "execution_count": 47,
     "metadata": {},
     "output_type": "execute_result"
    }
   ],
   "source": [
    "nltk.download('averaged_perceptron_tagger')"
   ]
  },
  {
   "cell_type": "code",
   "execution_count": 48,
   "id": "615b8bf7",
   "metadata": {
    "scrolled": true
   },
   "outputs": [
    {
     "name": "stdout",
     "output_type": "stream",
     "text": [
      "Original Tokens: ['The', 'players', 'are', 'playing', 'in', 'the', 'park', '.']\n",
      "Lemmatized Tokens: ['The', 'player', 'be', 'play', 'in', 'the', 'park', '.']\n"
     ]
    }
   ],
   "source": [
    "from nltk import pos_tag\n",
    "from nltk.corpus import wordnet\n",
    "\n",
    "# Function to get the wordnet POS tag\n",
    "def get_wordnet_pos(treebank_tag):\n",
    "    if treebank_tag.startswith('J'):\n",
    "        return wordnet.ADJ\n",
    "    elif treebank_tag.startswith('V'):\n",
    "        return wordnet.VERB\n",
    "    elif treebank_tag.startswith('N'):\n",
    "        return wordnet.NOUN\n",
    "    elif treebank_tag.startswith('R'):\n",
    "        return wordnet.ADV\n",
    "    else:\n",
    "        return wordnet.NOUN"
   ]
  },
  {
   "cell_type": "code",
   "execution_count": 49,
   "id": "858cb21c",
   "metadata": {},
   "outputs": [],
   "source": [
    "def tokenize_and_lemmatize(text):\n",
    "    tokens = word_tokenize(text)\n",
    "    pos_tags = pos_tag(tokens)\n",
    "    lemmatized_tokens = [lemmatizer.lemmatize(token, get_wordnet_pos(pos)) for token, pos in pos_tags]\n",
    "    return ' '.join(lemmatized_tokens)\n",
    "\n",
    "# Apply tokenization and lemmatization\n",
    "data['processed_text'] = data['cleaned_text'].apply(tokenize_and_lemmatize)"
   ]
  },
  {
   "cell_type": "code",
   "execution_count": 50,
   "id": "8671b862",
   "metadata": {},
   "outputs": [
    {
     "data": {
      "text/html": [
       "<div>\n",
       "<style scoped>\n",
       "    .dataframe tbody tr th:only-of-type {\n",
       "        vertical-align: middle;\n",
       "    }\n",
       "\n",
       "    .dataframe tbody tr th {\n",
       "        vertical-align: top;\n",
       "    }\n",
       "\n",
       "    .dataframe thead th {\n",
       "        text-align: right;\n",
       "    }\n",
       "</style>\n",
       "<table border=\"1\" class=\"dataframe\">\n",
       "  <thead>\n",
       "    <tr style=\"text-align: right;\">\n",
       "      <th></th>\n",
       "      <th>text</th>\n",
       "      <th>label</th>\n",
       "      <th>word_count</th>\n",
       "      <th>cleaned_text</th>\n",
       "      <th>processed_text</th>\n",
       "      <th>final_text</th>\n",
       "    </tr>\n",
       "  </thead>\n",
       "  <tbody>\n",
       "    <tr>\n",
       "      <th>0</th>\n",
       "      <td>I grew up (b. 1965) watching and loving the Th...</td>\n",
       "      <td>0</td>\n",
       "      <td>151</td>\n",
       "      <td>i grew up b 1965 watching and loving the thund...</td>\n",
       "      <td>i grow up b 1965 watching and love the thunder...</td>\n",
       "      <td>grew b 1965 watching loving thunderbird mate s...</td>\n",
       "    </tr>\n",
       "    <tr>\n",
       "      <th>1</th>\n",
       "      <td>When I put this movie in my DVD player, and sa...</td>\n",
       "      <td>0</td>\n",
       "      <td>326</td>\n",
       "      <td>when i put this movie in my dvd player and sat...</td>\n",
       "      <td>when i put this movie in my dvd player and sit...</td>\n",
       "      <td>put movie dvd player sat coke chip expectation...</td>\n",
       "    </tr>\n",
       "    <tr>\n",
       "      <th>2</th>\n",
       "      <td>Why do people who do not know what a particula...</td>\n",
       "      <td>0</td>\n",
       "      <td>184</td>\n",
       "      <td>why do people who do not know what a particula...</td>\n",
       "      <td>why do people who do not know what a particula...</td>\n",
       "      <td>people know particular time past wa like feel ...</td>\n",
       "    </tr>\n",
       "    <tr>\n",
       "      <th>3</th>\n",
       "      <td>Even though I have great interest in Biblical ...</td>\n",
       "      <td>0</td>\n",
       "      <td>69</td>\n",
       "      <td>even though i have great interest in biblical ...</td>\n",
       "      <td>even though i have great interest in biblical ...</td>\n",
       "      <td>even though great interest biblical movie wa b...</td>\n",
       "    </tr>\n",
       "    <tr>\n",
       "      <th>4</th>\n",
       "      <td>Im a die hard Dads Army fan and nothing will e...</td>\n",
       "      <td>1</td>\n",
       "      <td>178</td>\n",
       "      <td>im a die hard dads army fan and nothing will e...</td>\n",
       "      <td>im a die hard dad army fan and nothing will ev...</td>\n",
       "      <td>im die hard dad army fan nothing ever change g...</td>\n",
       "    </tr>\n",
       "  </tbody>\n",
       "</table>\n",
       "</div>"
      ],
      "text/plain": [
       "                                                text  label  word_count  \\\n",
       "0  I grew up (b. 1965) watching and loving the Th...      0         151   \n",
       "1  When I put this movie in my DVD player, and sa...      0         326   \n",
       "2  Why do people who do not know what a particula...      0         184   \n",
       "3  Even though I have great interest in Biblical ...      0          69   \n",
       "4  Im a die hard Dads Army fan and nothing will e...      1         178   \n",
       "\n",
       "                                        cleaned_text  \\\n",
       "0  i grew up b 1965 watching and loving the thund...   \n",
       "1  when i put this movie in my dvd player and sat...   \n",
       "2  why do people who do not know what a particula...   \n",
       "3  even though i have great interest in biblical ...   \n",
       "4  im a die hard dads army fan and nothing will e...   \n",
       "\n",
       "                                      processed_text  \\\n",
       "0  i grow up b 1965 watching and love the thunder...   \n",
       "1  when i put this movie in my dvd player and sit...   \n",
       "2  why do people who do not know what a particula...   \n",
       "3  even though i have great interest in biblical ...   \n",
       "4  im a die hard dad army fan and nothing will ev...   \n",
       "\n",
       "                                          final_text  \n",
       "0  grew b 1965 watching loving thunderbird mate s...  \n",
       "1  put movie dvd player sat coke chip expectation...  \n",
       "2  people know particular time past wa like feel ...  \n",
       "3  even though great interest biblical movie wa b...  \n",
       "4  im die hard dad army fan nothing ever change g...  "
      ]
     },
     "execution_count": 50,
     "metadata": {},
     "output_type": "execute_result"
    }
   ],
   "source": [
    "# Display the first few rows of the processed data\n",
    "data.head()"
   ]
  },
  {
   "cell_type": "code",
   "execution_count": 43,
   "id": "c0c19f23",
   "metadata": {},
   "outputs": [
    {
     "name": "stderr",
     "output_type": "stream",
     "text": [
      "[nltk_data] Downloading package stopwords to\n",
      "[nltk_data]     C:\\Users\\PC\\AppData\\Roaming\\nltk_data...\n",
      "[nltk_data]   Unzipping corpora\\stopwords.zip.\n"
     ]
    },
    {
     "data": {
      "text/plain": [
       "True"
      ]
     },
     "execution_count": 43,
     "metadata": {},
     "output_type": "execute_result"
    }
   ],
   "source": [
    "# Dealing with stop words\n",
    "from nltk.corpus import stopwords\n",
    "\n",
    "# Download stopwords list\n",
    "nltk.download('stopwords')"
   ]
  },
  {
   "cell_type": "code",
   "execution_count": 53,
   "id": "455a4360",
   "metadata": {},
   "outputs": [],
   "source": [
    "stop_words = set(stopwords.words('english'))\n",
    "\n",
    "def remove_stopwords(text):\n",
    "    tokens = word_tokenize(text)\n",
    "    filtered_tokens = [token for token in tokens if token not in stop_words]\n",
    "    return ' '.join(filtered_tokens)\n",
    "\n",
    "# Remove stop words\n",
    "data['final_text'] = data['processed_text'].apply(remove_stopwords)"
   ]
  },
  {
   "cell_type": "code",
   "execution_count": 149,
   "id": "c30e3f87",
   "metadata": {},
   "outputs": [
    {
     "data": {
      "text/plain": [
       "'Even though I have great interest in Biblical movies, I was bored to death every minute of the movie. Everything is bad. The movie is too long, the acting is most of the time a Joke and the script is horrible. I did not get the point in mixing the story about Abraham and Noah together. So if you value your time and sanity stay away from this horror.'"
      ]
     },
     "execution_count": 149,
     "metadata": {},
     "output_type": "execute_result"
    }
   ],
   "source": [
    "data['text'][3]"
   ]
  },
  {
   "cell_type": "code",
   "execution_count": 55,
   "id": "ac2a21fe",
   "metadata": {
    "scrolled": true
   },
   "outputs": [
    {
     "data": {
      "text/html": [
       "<div>\n",
       "<style scoped>\n",
       "    .dataframe tbody tr th:only-of-type {\n",
       "        vertical-align: middle;\n",
       "    }\n",
       "\n",
       "    .dataframe tbody tr th {\n",
       "        vertical-align: top;\n",
       "    }\n",
       "\n",
       "    .dataframe thead th {\n",
       "        text-align: right;\n",
       "    }\n",
       "</style>\n",
       "<table border=\"1\" class=\"dataframe\">\n",
       "  <thead>\n",
       "    <tr style=\"text-align: right;\">\n",
       "      <th></th>\n",
       "      <th>text</th>\n",
       "      <th>label</th>\n",
       "      <th>word_count</th>\n",
       "      <th>cleaned_text</th>\n",
       "      <th>processed_text</th>\n",
       "      <th>final_text</th>\n",
       "    </tr>\n",
       "  </thead>\n",
       "  <tbody>\n",
       "    <tr>\n",
       "      <th>0</th>\n",
       "      <td>I grew up (b. 1965) watching and loving the Th...</td>\n",
       "      <td>0</td>\n",
       "      <td>151</td>\n",
       "      <td>i grew up b 1965 watching and loving the thund...</td>\n",
       "      <td>i grow up b 1965 watching and love the thunder...</td>\n",
       "      <td>grow b 1965 watching love thunderbird mate sch...</td>\n",
       "    </tr>\n",
       "    <tr>\n",
       "      <th>1</th>\n",
       "      <td>When I put this movie in my DVD player, and sa...</td>\n",
       "      <td>0</td>\n",
       "      <td>326</td>\n",
       "      <td>when i put this movie in my dvd player and sat...</td>\n",
       "      <td>when i put this movie in my dvd player and sit...</td>\n",
       "      <td>put movie dvd player sit coke chip expectation...</td>\n",
       "    </tr>\n",
       "    <tr>\n",
       "      <th>2</th>\n",
       "      <td>Why do people who do not know what a particula...</td>\n",
       "      <td>0</td>\n",
       "      <td>184</td>\n",
       "      <td>why do people who do not know what a particula...</td>\n",
       "      <td>why do people who do not know what a particula...</td>\n",
       "      <td>people know particular time past like feel nee...</td>\n",
       "    </tr>\n",
       "    <tr>\n",
       "      <th>3</th>\n",
       "      <td>Even though I have great interest in Biblical ...</td>\n",
       "      <td>0</td>\n",
       "      <td>69</td>\n",
       "      <td>even though i have great interest in biblical ...</td>\n",
       "      <td>even though i have great interest in biblical ...</td>\n",
       "      <td>even though great interest biblical movie bore...</td>\n",
       "    </tr>\n",
       "    <tr>\n",
       "      <th>4</th>\n",
       "      <td>Im a die hard Dads Army fan and nothing will e...</td>\n",
       "      <td>1</td>\n",
       "      <td>178</td>\n",
       "      <td>im a die hard dads army fan and nothing will e...</td>\n",
       "      <td>im a die hard dad army fan and nothing will ev...</td>\n",
       "      <td>im die hard dad army fan nothing ever change g...</td>\n",
       "    </tr>\n",
       "    <tr>\n",
       "      <th>...</th>\n",
       "      <td>...</td>\n",
       "      <td>...</td>\n",
       "      <td>...</td>\n",
       "      <td>...</td>\n",
       "      <td>...</td>\n",
       "      <td>...</td>\n",
       "    </tr>\n",
       "    <tr>\n",
       "      <th>39995</th>\n",
       "      <td>\"Western Union\" is something of a forgotten cl...</td>\n",
       "      <td>1</td>\n",
       "      <td>541</td>\n",
       "      <td>western union is something of a forgotten clas...</td>\n",
       "      <td>western union be something of a forgotten clas...</td>\n",
       "      <td>western union something forgotten classic west...</td>\n",
       "    </tr>\n",
       "    <tr>\n",
       "      <th>39996</th>\n",
       "      <td>This movie is an incredible piece of work. It ...</td>\n",
       "      <td>1</td>\n",
       "      <td>50</td>\n",
       "      <td>this movie is an incredible piece of work it e...</td>\n",
       "      <td>this movie be an incredible piece of work it e...</td>\n",
       "      <td>movie incredible piece work explore every nook...</td>\n",
       "    </tr>\n",
       "    <tr>\n",
       "      <th>39997</th>\n",
       "      <td>My wife and I watched this movie because we pl...</td>\n",
       "      <td>0</td>\n",
       "      <td>168</td>\n",
       "      <td>my wife and i watched this movie because we pl...</td>\n",
       "      <td>my wife and i watch this movie because we plan...</td>\n",
       "      <td>wife watch movie plan visit sicily stromboli s...</td>\n",
       "    </tr>\n",
       "    <tr>\n",
       "      <th>39998</th>\n",
       "      <td>When I first watched Flatliners, I was amazed....</td>\n",
       "      <td>1</td>\n",
       "      <td>168</td>\n",
       "      <td>when i first watched flatliners i was amazed i...</td>\n",
       "      <td>when i first watch flatliners i be amaze it ha...</td>\n",
       "      <td>first watch flatliners amaze necessary feature...</td>\n",
       "    </tr>\n",
       "    <tr>\n",
       "      <th>39999</th>\n",
       "      <td>Why would this film be so good, but only gross...</td>\n",
       "      <td>1</td>\n",
       "      <td>137</td>\n",
       "      <td>why would this film be so good but only gross ...</td>\n",
       "      <td>why would this film be so good but only gross ...</td>\n",
       "      <td>would film good gross estimated 95000000 award...</td>\n",
       "    </tr>\n",
       "  </tbody>\n",
       "</table>\n",
       "<p>39723 rows × 6 columns</p>\n",
       "</div>"
      ],
      "text/plain": [
       "                                                    text  label  word_count  \\\n",
       "0      I grew up (b. 1965) watching and loving the Th...      0         151   \n",
       "1      When I put this movie in my DVD player, and sa...      0         326   \n",
       "2      Why do people who do not know what a particula...      0         184   \n",
       "3      Even though I have great interest in Biblical ...      0          69   \n",
       "4      Im a die hard Dads Army fan and nothing will e...      1         178   \n",
       "...                                                  ...    ...         ...   \n",
       "39995  \"Western Union\" is something of a forgotten cl...      1         541   \n",
       "39996  This movie is an incredible piece of work. It ...      1          50   \n",
       "39997  My wife and I watched this movie because we pl...      0         168   \n",
       "39998  When I first watched Flatliners, I was amazed....      1         168   \n",
       "39999  Why would this film be so good, but only gross...      1         137   \n",
       "\n",
       "                                            cleaned_text  \\\n",
       "0      i grew up b 1965 watching and loving the thund...   \n",
       "1      when i put this movie in my dvd player and sat...   \n",
       "2      why do people who do not know what a particula...   \n",
       "3      even though i have great interest in biblical ...   \n",
       "4      im a die hard dads army fan and nothing will e...   \n",
       "...                                                  ...   \n",
       "39995  western union is something of a forgotten clas...   \n",
       "39996  this movie is an incredible piece of work it e...   \n",
       "39997  my wife and i watched this movie because we pl...   \n",
       "39998  when i first watched flatliners i was amazed i...   \n",
       "39999  why would this film be so good but only gross ...   \n",
       "\n",
       "                                          processed_text  \\\n",
       "0      i grow up b 1965 watching and love the thunder...   \n",
       "1      when i put this movie in my dvd player and sit...   \n",
       "2      why do people who do not know what a particula...   \n",
       "3      even though i have great interest in biblical ...   \n",
       "4      im a die hard dad army fan and nothing will ev...   \n",
       "...                                                  ...   \n",
       "39995  western union be something of a forgotten clas...   \n",
       "39996  this movie be an incredible piece of work it e...   \n",
       "39997  my wife and i watch this movie because we plan...   \n",
       "39998  when i first watch flatliners i be amaze it ha...   \n",
       "39999  why would this film be so good but only gross ...   \n",
       "\n",
       "                                              final_text  \n",
       "0      grow b 1965 watching love thunderbird mate sch...  \n",
       "1      put movie dvd player sit coke chip expectation...  \n",
       "2      people know particular time past like feel nee...  \n",
       "3      even though great interest biblical movie bore...  \n",
       "4      im die hard dad army fan nothing ever change g...  \n",
       "...                                                  ...  \n",
       "39995  western union something forgotten classic west...  \n",
       "39996  movie incredible piece work explore every nook...  \n",
       "39997  wife watch movie plan visit sicily stromboli s...  \n",
       "39998  first watch flatliners amaze necessary feature...  \n",
       "39999  would film good gross estimated 95000000 award...  \n",
       "\n",
       "[39723 rows x 6 columns]"
      ]
     },
     "execution_count": 55,
     "metadata": {},
     "output_type": "execute_result"
    }
   ],
   "source": [
    "# Display the first few rows of the final processed data\n",
    "data['final_text'].head()"
   ]
  },
  {
   "cell_type": "code",
   "execution_count": 56,
   "id": "94d7981d",
   "metadata": {},
   "outputs": [
    {
     "name": "stdout",
     "output_type": "stream",
     "text": [
      "(39723, 147829)\n"
     ]
    }
   ],
   "source": [
    "# Feature extraction\n",
    "from sklearn.feature_extraction.text import TfidfVectorizer\n",
    "\n",
    "# Initialize the TF-IDF vectorizer\n",
    "vectorizer = TfidfVectorizer()\n",
    "\n",
    "# Fit and transform the text data\n",
    "tfidf_matrix = vectorizer.fit_transform(data['final_text'])\n",
    "\n",
    "# Display the shape of the TF-IDF matrix\n",
    "print(tfidf_matrix.shape)"
   ]
  },
  {
   "cell_type": "markdown",
   "id": "3941b126",
   "metadata": {},
   "source": [
    "## Train-test split"
   ]
  },
  {
   "cell_type": "code",
   "execution_count": 77,
   "id": "9904401f",
   "metadata": {},
   "outputs": [],
   "source": [
    "from sklearn.model_selection import train_test_split\n",
    "\n",
    "# First split: Split into (train + validation) and test sets\n",
    "X_train_val, X_test, y_train_val, y_test = train_test_split(tfidf_matrix, data['label'], test_size=0.15, random_state=42)\n",
    "\n",
    "# Second split: Split (train + validation) into training and validation sets\n",
    "X_train, X_val, y_train, y_val = train_test_split(X_train_val, y_train_val, test_size=0.15 / (1 - 0.15), random_state=42)\n"
   ]
  },
  {
   "cell_type": "code",
   "execution_count": 78,
   "id": "da97ad5c",
   "metadata": {},
   "outputs": [
    {
     "data": {
      "text/plain": [
       "(27805, 147829)"
      ]
     },
     "execution_count": 78,
     "metadata": {},
     "output_type": "execute_result"
    }
   ],
   "source": [
    "X_train.shape"
   ]
  },
  {
   "cell_type": "code",
   "execution_count": 79,
   "id": "9c0d3abc",
   "metadata": {},
   "outputs": [
    {
     "data": {
      "text/plain": [
       "(5959, 147829)"
      ]
     },
     "execution_count": 79,
     "metadata": {},
     "output_type": "execute_result"
    }
   ],
   "source": [
    "X_val.shape"
   ]
  },
  {
   "cell_type": "code",
   "execution_count": 80,
   "id": "b30fad0e",
   "metadata": {},
   "outputs": [
    {
     "data": {
      "text/plain": [
       "(5959, 147829)"
      ]
     },
     "execution_count": 80,
     "metadata": {},
     "output_type": "execute_result"
    }
   ],
   "source": [
    "X_test.shape"
   ]
  },
  {
   "cell_type": "markdown",
   "id": "113582c9",
   "metadata": {},
   "source": [
    "## Models Development"
   ]
  },
  {
   "cell_type": "code",
   "execution_count": 81,
   "id": "1f7fe26e",
   "metadata": {},
   "outputs": [],
   "source": [
    "from sklearn.linear_model import LogisticRegression\n",
    "from sklearn.naive_bayes import MultinomialNB\n",
    "from sklearn.model_selection import GridSearchCV\n",
    "from sklearn.metrics import classification_report, accuracy_score"
   ]
  },
  {
   "cell_type": "markdown",
   "id": "c6ef6561",
   "metadata": {},
   "source": [
    "### Exploring prameters and training models for increased accuracy"
   ]
  },
  {
   "cell_type": "markdown",
   "id": "bc7b3ad4",
   "metadata": {},
   "source": [
    "#### 1) Logistic Regression"
   ]
  },
  {
   "cell_type": "code",
   "execution_count": 102,
   "id": "58a642ba",
   "metadata": {},
   "outputs": [
    {
     "name": "stdout",
     "output_type": "stream",
     "text": [
      "Best Parameters: {'C': 10, 'solver': 'liblinear'}\n",
      "Best Cross-validation Score: 0.8887610142060781\n"
     ]
    }
   ],
   "source": [
    "# Define the parameter grid\n",
    "param_grid = {\n",
    "    'C': [0.01, 0.1, 1, 10, 100],\n",
    "    'solver': ['liblinear', 'saga']\n",
    "}\n",
    "\n",
    "# Initialize the model\n",
    "LR = LogisticRegression(max_iter=1000)\n",
    "\n",
    "# Perform grid search\n",
    "grid_search = GridSearchCV(LR, param_grid, cv=5, scoring='accuracy', n_jobs=-1)\n",
    "grid_search.fit(X_train, y_train)\n",
    "\n",
    "# Best parameters and score\n",
    "print(\"Best Parameters:\", grid_search.best_params_)\n",
    "print(\"Best Cross-validation Score:\", grid_search.best_score_)"
   ]
  },
  {
   "cell_type": "code",
   "execution_count": 103,
   "id": "e0f8849c",
   "metadata": {},
   "outputs": [],
   "source": [
    "# Identyifing best model\n",
    "best_lr= grid_search.best_estimator_"
   ]
  },
  {
   "cell_type": "code",
   "execution_count": 107,
   "id": "2afefd09",
   "metadata": {
    "scrolled": true
   },
   "outputs": [
    {
     "name": "stdout",
     "output_type": "stream",
     "text": [
      "Validation Accuracy: 0.8867259607316664\n",
      "Validation Classification Report:\n",
      "               precision    recall  f1-score   support\n",
      "\n",
      "           0       0.89      0.87      0.88      2934\n",
      "           1       0.88      0.90      0.89      3025\n",
      "\n",
      "    accuracy                           0.89      5959\n",
      "   macro avg       0.89      0.89      0.89      5959\n",
      "weighted avg       0.89      0.89      0.89      5959\n",
      "\n"
     ]
    }
   ],
   "source": [
    "# Validate the model\n",
    "y_val_pred_best = best_lr.predict(X_val)\n",
    "print(\"Validation Accuracy:\", accuracy_score(y_val, y_val_pred_best))"
   ]
  },
  {
   "cell_type": "code",
   "execution_count": 108,
   "id": "3a4682ea",
   "metadata": {},
   "outputs": [
    {
     "name": "stdout",
     "output_type": "stream",
     "text": [
      "Test Accuracy: 0.8931028696089948\n"
     ]
    }
   ],
   "source": [
    "# Predict on the test data\n",
    "y_pred_best_lr = best_lr.predict(X_test)\n",
    "\n",
    "# Calculate the test accuracy\n",
    "test_accuracy = accuracy_score(y_test, y_pred_best_lr)\n",
    "\n",
    "print(\"Test Accuracy:\", test_accuracy)"
   ]
  },
  {
   "cell_type": "markdown",
   "id": "8310a0dc",
   "metadata": {},
   "source": [
    "#### 2) MultinomialNB (Naive Bayes)"
   ]
  },
  {
   "cell_type": "code",
   "execution_count": 110,
   "id": "33eda4c8",
   "metadata": {},
   "outputs": [
    {
     "name": "stdout",
     "output_type": "stream",
     "text": [
      "Best Parameters: {'alpha': 1}\n",
      "Best Cross-validation Score: 0.8604207876281244\n"
     ]
    }
   ],
   "source": [
    "# Define the parameter grid\n",
    "param_grid_nb = {\n",
    "    'alpha': [0.01, 0.1, 1, 10, 100]\n",
    "}\n",
    "\n",
    "# Initialize the model\n",
    "NB = MultinomialNB()\n",
    "\n",
    "# Perform grid search\n",
    "grid_search_nb = GridSearchCV(NB, param_grid_nb, cv=5, scoring='accuracy', n_jobs=-1)\n",
    "grid_search_nb.fit(X_train, y_train)\n",
    "\n",
    "# Best parameters and score\n",
    "print(\"Best Parameters:\", grid_search_nb.best_params_)\n",
    "print(\"Best Cross-validation Score:\", grid_search_nb.best_score_)"
   ]
  },
  {
   "cell_type": "code",
   "execution_count": 111,
   "id": "d9d5c0a0",
   "metadata": {
    "scrolled": true
   },
   "outputs": [
    {
     "name": "stdout",
     "output_type": "stream",
     "text": [
      "Validation Accuracy: 0.8603792582648095\n",
      "Validation Classification Report:\n",
      "               precision    recall  f1-score   support\n",
      "\n",
      "           0       0.84      0.88      0.86      2934\n",
      "           1       0.88      0.84      0.86      3025\n",
      "\n",
      "    accuracy                           0.86      5959\n",
      "   macro avg       0.86      0.86      0.86      5959\n",
      "weighted avg       0.86      0.86      0.86      5959\n",
      "\n"
     ]
    }
   ],
   "source": [
    "# Identyifing best model\n",
    "best_nb= grid_search_nb.best_estimator_\n",
    "\n",
    "# Validate the model\n",
    "y_val_pred_best_nb = best_nb.predict(X_val)\n",
    "print(\"Validation Accuracy:\", accuracy_score(y_val, y_val_pred_best_nb))"
   ]
  },
  {
   "cell_type": "code",
   "execution_count": 112,
   "id": "1d8f9b84",
   "metadata": {},
   "outputs": [
    {
     "name": "stdout",
     "output_type": "stream",
     "text": [
      "Test Accuracy: 0.8602114448733009\n"
     ]
    }
   ],
   "source": [
    "# Predict on the test data\n",
    "y_pred_best_nb = best_nb.predict(X_test)\n",
    "\n",
    "# Calculate the test accuracy\n",
    "test_accuracy = accuracy_score(y_test, y_pred_best_nb)\n",
    "\n",
    "print(\"Test Accuracy:\", test_accuracy)"
   ]
  },
  {
   "cell_type": "markdown",
   "id": "346fce2f",
   "metadata": {},
   "source": [
    "## Performance comparison"
   ]
  },
  {
   "cell_type": "code",
   "execution_count": 139,
   "id": "5c8b4a6e",
   "metadata": {},
   "outputs": [
    {
     "name": "stdout",
     "output_type": "stream",
     "text": [
      "Logistic Regression:\n",
      "Validation Accuracy: 0.8867259607316664\n",
      "Validation Classification Report:\n",
      "               precision    recall  f1-score   support\n",
      "\n",
      "           0       0.89      0.87      0.88      2934\n",
      "           1       0.88      0.90      0.89      3025\n",
      "\n",
      "    accuracy                           0.89      5959\n",
      "   macro avg       0.89      0.89      0.89      5959\n",
      "weighted avg       0.89      0.89      0.89      5959\n",
      "\n",
      "Test Accuracy: 0.8931028696089948\n",
      "-------------------------------------------------------------\n",
      "Naive Bayes:\n",
      "Validation Accuracy: 0.8603792582648095\n",
      "Validation Classification Report:\n",
      "               precision    recall  f1-score   support\n",
      "\n",
      "           0       0.84      0.88      0.86      2934\n",
      "           1       0.88      0.84      0.86      3025\n",
      "\n",
      "    accuracy                           0.86      5959\n",
      "   macro avg       0.86      0.86      0.86      5959\n",
      "weighted avg       0.86      0.86      0.86      5959\n",
      "\n",
      "Test Accuracy: 0.8602114448733009\n"
     ]
    }
   ],
   "source": [
    "# Logistic Regression\n",
    "print(\"Logistic Regression:\")\n",
    "print(\"Validation Accuracy:\", accuracy_score(y_val, y_val_pred_best))\n",
    "print(\"Validation Classification Report:\\n\", classification_report(y_val, y_val_pred_best))\n",
    "print(\"Test Accuracy:\", accuracy_score(y_test, y_pred_best_lr))\n",
    "print(\"-------------------------------------------------------------\")\n",
    "# Naive Bayes\n",
    "print(\"Naive Bayes:\")\n",
    "print(\"Validation Accuracy:\", accuracy_score(y_val, y_val_pred_best_nb))\n",
    "print(\"Validation Classification Report:\\n\", classification_report(y_val, y_val_pred_best_nb))\n",
    "print(\"Test Accuracy:\", accuracy_score(y_test, y_pred_best_nb))"
   ]
  },
  {
   "cell_type": "code",
   "execution_count": 140,
   "id": "e411ab5f",
   "metadata": {},
   "outputs": [
    {
     "data": {
      "image/png": "[encoded data removed]",
      "text/plain": [
       "<Figure size 1800x600 with 4 Axes>"
      ]
     },
     "metadata": {},
     "output_type": "display_data"
    }
   ],
   "source": [
    "from sklearn.metrics import confusion_matrix\n",
    "from sklearn.metrics import ConfusionMatrixDisplay\n",
    "# convusion matrix comparison\n",
    "fig, (ax1, ax2) = plt.subplots(1, 2, figsize=(18, 6))\n",
    "\n",
    "# Logistic Regression Confusion Matrix\n",
    "cm_lr = confusion_matrix(y_test, y_pred_best_lr, labels=best_lr.classes_)\n",
    "disp_lr = ConfusionMatrixDisplay(confusion_matrix=cm_lr, display_labels=['Negative', 'Positive'])\n",
    "disp_lr.plot(ax=ax1,cmap=\"YlGnBu\")\n",
    "ax1.set_title('Logistic Regression Confusion Matrix')\n",
    "\n",
    "# Naive Bayes Confusion Matrix\n",
    "cm_nb = confusion_matrix(y_test, y_pred_best_nb, labels=best_nb.classes_)\n",
    "disp_nb = ConfusionMatrixDisplay(confusion_matrix=cm_nb, display_labels=['Negative', 'Positive'])\n",
    "disp_nb.plot(ax=ax2,cmap=\"YlGnBu\")\n",
    "ax2.set_title('Naive Bayes Confusion Matrix')\n",
    "\n",
    "plt.tight_layout()\n",
    "plt.show()"
   ]
  },
  {
   "cell_type": "markdown",
   "id": "a94dedac",
   "metadata": {},
   "source": [
    "# Final model\n",
    "After comparison it's clear that the Logistic Regression model is the best model"
   ]
  },
  {
   "cell_type": "code",
   "execution_count": 122,
   "id": "b293087b",
   "metadata": {},
   "outputs": [
    {
     "data": {
      "image/png": "[encoded data removed]",
      "text/plain": [
       "<Figure size 1000x600 with 1 Axes>"
      ]
     },
     "metadata": {},
     "output_type": "display_data"
    }
   ],
   "source": [
    "#Plotting performance of best model\n",
    "from sklearn.model_selection import learning_curve\n",
    "\n",
    "# Generate learning curves\n",
    "train_sizes, train_scores, test_scores = learning_curve(\n",
    "    best_lr, \n",
    "    tfidf_matrix, \n",
    "    data['label'], \n",
    "    train_sizes=np.linspace(0.1, 1.0, 10), \n",
    "    cv=5, \n",
    "    n_jobs=-1\n",
    ")\n",
    "\n",
    "# Calculate mean and std deviation of training and test scores\n",
    "train_mean = np.mean(train_scores, axis=1)\n",
    "train_std = np.std(train_scores, axis=1)\n",
    "test_mean = np.mean(test_scores, axis=1)\n",
    "test_std = np.std(test_scores, axis=1)\n",
    "\n",
    "# Plot learning curves\n",
    "plt.figure(figsize=(10, 6))\n",
    "plt.plot(train_sizes, train_mean, color='r', label='Training score')\n",
    "plt.plot(train_sizes, test_mean, 'o-', color='g', label='Cross-validation score')\n",
    "\n",
    "# Plot the standard deviation as shaded regions indecating the spread \n",
    "plt.fill_between(train_sizes, train_mean - train_std, train_mean + train_std, alpha=0.1, color='r')\n",
    "plt.fill_between(train_sizes, test_mean - test_std, test_mean + test_std, alpha=0.1, color='g')\n",
    "\n",
    "plt.title('Learning Curves (Logistic Regression)')\n",
    "plt.xlabel('Training Size')\n",
    "plt.ylabel('Score')\n",
    "plt.legend(loc='best')\n",
    "plt.grid(True)\n",
    "plt.show()\n"
   ]
  },
  {
   "cell_type": "code",
   "execution_count": 121,
   "id": "8faa69b2",
   "metadata": {
    "scrolled": true
   },
   "outputs": [
    {
     "data": {
      "image/png": "[encoded data removed]",
      "text/plain": [
       "<Figure size 1000x600 with 1 Axes>"
      ]
     },
     "metadata": {},
     "output_type": "display_data"
    }
   ],
   "source": [
    "from sklearn.metrics import roc_curve, roc_auc_score\n",
    "\n",
    "# Get the predicted probabilities for the test set\n",
    "y_prob = best_lr.predict_proba(X_test)[:, 1]  # Probabilities for the positive class\n",
    "\n",
    "# Calculate ROC curve values\n",
    "fpr, tpr, thresholds = roc_curve(y_test, y_prob, pos_label=1)\n",
    "\n",
    "# Calculate the AUC\n",
    "roc_auc = roc_auc_score(y_test, y_prob)\n",
    "\n",
    "# Plot ROC curve\n",
    "plt.figure(figsize=(10, 6))\n",
    "plt.plot(fpr, tpr, color='darkorange', lw=2, label='ROC curve (area = {:.2f})'.format(roc_auc))\n",
    "plt.plot([0, 1], [0, 1], color='navy', lw=2, linestyle='--')\n",
    "plt.xlim([0.0, 1.0])\n",
    "plt.ylim([0.0, 1.05])\n",
    "plt.xlabel('False Positive Rate')\n",
    "plt.ylabel('True Positive Rate')\n",
    "plt.title('Receiver Operating Characteristic (ROC) Curve')\n",
    "plt.legend(loc='lower right')\n",
    "plt.grid(True)\n",
    "plt.show()\n"
   ]
  }
 ],
 "metadata": {
  "kernelspec": {
   "display_name": "Python 3 (ipykernel)",
   "language": "python",
   "name": "python3"
  },
  "language_info": {
   "codemirror_mode": {
    "name": "ipython",
    "version": 3
   },
   "file_extension": ".py",
   "mimetype": "text/x-python",
   "name": "python",
   "nbconvert_exporter": "python",
   "pygments_lexer": "ipython3",
   "version": "3.11.4"
  }
 },
 "nbformat": 4,
 "nbformat_minor": 5
}
